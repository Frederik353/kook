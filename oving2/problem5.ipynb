{
 "cells": [
  {
   "cell_type": "markdown",
   "id": "7f7bd481",
   "metadata": {},
   "source": [
    "# Error Analysis\n",
    "\n",
    "Let's first load the necessary packages"
   ]
  },
  {
   "cell_type": "code",
   "execution_count": 5,
   "id": "76a924d1",
   "metadata": {},
   "outputs": [],
   "source": [
    "import numpy as np\n",
    "import matplotlib.pyplot as plt\n",
    "from numpy import pi"
   ]
  },
  {
   "cell_type": "markdown",
   "id": "fece815f",
   "metadata": {},
   "source": [
    "And we need the functions for interpolation – for example `cardinal` and `lagrange` as well as the function to create Chebyshev nodes."
   ]
  },
  {
   "cell_type": "code",
   "execution_count": 6,
   "id": "55a5ba15",
   "metadata": {},
   "outputs": [],
   "source": [
    "# THIS FUNCTION HAS TO BE COMPLETED CREATING THE CARDINAL FUNCTIONS\n",
    "def cardinal(xdata, x):\n",
    "    \"\"\"\n",
    "    cardinal(xdata, x): \n",
    "    In: xdata, array with the nodes x_i.\n",
    "        x, array or a scalar of values in which the cardinal functions are evaluated.\n",
    "    Return: l: a list of arrays of the cardinal functions evaluated in x. \n",
    "    \"\"\"\n",
    "    print(x)\n",
    "    n = len(xdata)              # Number of evaluation points x\n",
    "    l = []\n",
    "    for i in range(n):          # Loop over the cardinal functions\n",
    "        # ADD CODE HERE\n",
    "        li = np.ones_like(x)\n",
    "        for j in range(n):      # Loop to make the product for l_i\n",
    "            if i is not j:\n",
    "\n",
    "                # ADD CODE HERE\n",
    "                li *= (x - xdata[j])/(xdata[i] - xdata[j])\n",
    "        l.append(li)            # Append the array to the list            \n",
    "    return l"
   ]
  },
  {
   "cell_type": "code",
   "execution_count": null,
   "id": "9df6c2b2",
   "metadata": {},
   "outputs": [],
   "source": [
    "def lagrange(ydata, l):\n",
    "    \"\"\"\n",
    "    lagrange(ydata, l):\n",
    "    In: ydata, array of the y-values of the interpolation points.\n",
    "         l, a list of the cardinal functions, given by `cardinal(xdata, x)`\n",
    "    Return: An array with the interpolation polynomial (evaluated at `x`). \n",
    "    \"\"\"\n",
    "    poly = 0                        \n",
    "    for i in range(len(ydata)):\n",
    "        poly = poly + ydata[i]*l[i]  \n",
    "    return poly"
   ]
  },
  {
   "cell_type": "markdown",
   "id": "79d84a5c",
   "metadata": {},
   "source": [
    "We now define the function of interest"
   ]
  },
  {
   "cell_type": "code",
   "execution_count": null,
   "id": "60fc53ea",
   "metadata": {},
   "outputs": [],
   "source": [
    "def f(x):\n",
    "    return 2**(x**2 -4-x)# ADD CODE HERE"
   ]
  },
  {
   "cell_type": "code",
   "execution_count": null,
   "id": "ba99757e",
   "metadata": {},
   "outputs": [],
   "source": [
    "# Data for the final plot and for\n",
    "a = \n",
    "b = \n",
    "x = np.linspace(a,b,401) \n",
    "y = \n",
    "n = "
   ]
  },
  {
   "cell_type": "markdown",
   "id": "6280f761",
   "metadata": {},
   "source": [
    "**a)** We use the given (equidistant) nodes to compute our polynomial $p$"
   ]
  },
  {
   "cell_type": "code",
   "execution_count": null,
   "id": "d99290dc",
   "metadata": {},
   "outputs": [],
   "source": [
    "# We use equidistant nodes (interpolation data)\n",
    "xdata = \n",
    "ydata = \n",
    "\n",
    "# Now we compute the cardinal function\n",
    "l = \n",
    "\n",
    "# And the polynomial\n",
    "p = "
   ]
  },
  {
   "cell_type": "markdown",
   "id": "6e50233f",
   "metadata": {},
   "source": [
    "To compute the error and its maximum we just have to subtract $f(x)$ (in `y`) and our evaluated polynomial $p(x)$ (on `p`)"
   ]
  },
  {
   "cell_type": "code",
   "execution_count": null,
   "id": "38ff9e16",
   "metadata": {},
   "outputs": [],
   "source": [
    "e_p = \n",
    "e_p_max = \n",
    "print(\"The maximal error is {:.2e}\".format(e_p_max))"
   ]
  },
  {
   "cell_type": "markdown",
   "id": "38089c11",
   "metadata": {},
   "source": [
    "And lets plot both f,p - and for illustration (not required) the interpolation points"
   ]
  },
  {
   "cell_type": "code",
   "execution_count": null,
   "id": "f39def9a",
   "metadata": {},
   "outputs": [],
   "source": [
    "# COMPLETE THE PLOT\n",
    "\n",
    "plt.plot()\n",
    "plt.legend()\n"
   ]
  },
  {
   "cell_type": "markdown",
   "id": "fc452f00",
   "metadata": {},
   "source": [
    "To compute the maximal error on $[-5,5]$, we have to evaluate f and the polynomial on this interval."
   ]
  },
  {
   "cell_type": "code",
   "execution_count": null,
   "id": "886a846f-5898-4aa6-b17c-99f8714aa08d",
   "metadata": {},
   "outputs": [],
   "source": [
    "x2 = \n",
    "y2 = \n",
    "l2 = \n",
    "p2 = \n",
    "e_p2 = \n",
    "e_p2_max = \n",
    "print(\"The maximal error is {:.2e}\".format(e_p2_max))"
   ]
  },
  {
   "cell_type": "markdown",
   "id": "96e05c2c",
   "metadata": {},
   "source": [
    "**b)** The Chebishev nodes and their function values are"
   ]
  },
  {
   "cell_type": "code",
   "execution_count": null,
   "id": "196a1ece",
   "metadata": {},
   "outputs": [],
   "source": [
    "# THIS FUNCTION HAS TO BE COMPLETED CALCULATING THE CHEBYSHEV NODES\n",
    "def chebyshev_nodes(a, b, n):\n",
    "    \"\"\"\n",
    "    chebyshev_nodes(a, b, n)\n",
    "    \n",
    "    return $n+1$ Chebyshev nodes $x_0,\\ldots,x_{n-1}$ on $[a,b]$\n",
    "    \"\"\"\n",
    "    i = np.array(range(n))              # i = [0,1,2,3, ....n-1]\n",
    "    x =                                 # nodes over the interval [-1,1]\n",
    "    return                              # nodes over the interval [a,b]"
   ]
  },
  {
   "cell_type": "code",
   "execution_count": null,
   "id": "aedc5d01",
   "metadata": {},
   "outputs": [],
   "source": [
    "xcheb = \n",
    "ycheb = \n",
    "print(xcheb)\n",
    "print(ycheb)"
   ]
  },
  {
   "cell_type": "markdown",
   "id": "9909986c",
   "metadata": {},
   "source": [
    "**c)** we perform the same analysis as in b, interpolate and create $g(x)$ and compute the error (but using the Chebyshev nodes)"
   ]
  },
  {
   "cell_type": "code",
   "execution_count": null,
   "id": "db51835d",
   "metadata": {},
   "outputs": [],
   "source": [
    "l = \n",
    "g = \n",
    "e_g = \n",
    "e_g_max = \n",
    "print(\"The maximal error is {:.2e}\".format(e_g_max))"
   ]
  },
  {
   "cell_type": "markdown",
   "id": "aa0fc913",
   "metadata": {},
   "source": [
    "And lets plot both f,p - and for illustration (not required) the interpolation points"
   ]
  },
  {
   "cell_type": "code",
   "execution_count": null,
   "id": "2edb6082-fc94-43fc-b53c-e894daaddff7",
   "metadata": {},
   "outputs": [],
   "source": [
    "# COMPLETE THE PLOT\n",
    "\n",
    "plt.plot()\n",
    "plt.legend()\n"
   ]
  },
  {
   "cell_type": "markdown",
   "id": "6e08d113",
   "metadata": {
    "tags": []
   },
   "source": [
    "To compute the maximal error on $[-5,5]$, we have to evaluate f and the polynomial on this interval."
   ]
  },
  {
   "cell_type": "code",
   "execution_count": null,
   "id": "2c1f6390-f8cf-45a3-b567-618407de12c5",
   "metadata": {},
   "outputs": [],
   "source": [
    "l2 = \n",
    "g2 = \n",
    "e_g2 = \n",
    "e_g2_max = \n",
    "print(\"The maximal error is {:.2e}\".format(e_g2_max))"
   ]
  },
  {
   "cell_type": "markdown",
   "id": "0bffdf68",
   "metadata": {},
   "source": [
    "**f)** We plot (on the x-axis, i.e. with zero error) both the equidistant and the Chebyshev nodes "
   ]
  },
  {
   "cell_type": "code",
   "execution_count": null,
   "id": "5f33560a",
   "metadata": {},
   "outputs": [],
   "source": [
    "z = np.zeros(n+1)\n",
    "z_cheb = np.zeros(n)\n",
    "# COMPLETE THE PLOT OF THE ERROR\n",
    "plt.plot()\n",
    "plt.plot(xdata, z, \"o\",xcheb, z_cheb, \"o\" )\n",
    "plt.legend()"
   ]
  }
 ],
 "metadata": {
  "kernelspec": {
   "display_name": "Python 3 (ipykernel)",
   "language": "python",
   "name": "python3"
  },
  "language_info": {
   "codemirror_mode": {
    "name": "ipython",
    "version": 3
   },
   "file_extension": ".py",
   "mimetype": "text/x-python",
   "name": "python",
   "nbconvert_exporter": "python",
   "pygments_lexer": "ipython3",
   "version": "3.12.5"
  }
 },
 "nbformat": 4,
 "nbformat_minor": 5
}
